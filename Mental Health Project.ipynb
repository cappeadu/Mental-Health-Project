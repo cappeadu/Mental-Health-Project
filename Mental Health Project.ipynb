{
 "cells": [
  {
   "cell_type": "markdown",
   "id": "db5de2cc",
   "metadata": {},
   "source": [
    "This analysis is a based on a publicly accessible dataset on CDC website - 2023 NATIONAL HEALTH INTERVIEW SURVEY (NHIS)\n",
    "This project (which is primarily for personal study) employs Odds Ratio to explain the interaction of variables in predicting the general health status of children (up to 17 years) living with or without mental conditions. It also employs IRR in explaining the risk across groups (same groups used in Odds ration analysis) in predicting days of school missed due to illness or injury past 12 months.\n",
    "\n",
    "This work starts with selecting a subset of the data, data cleaning and pre-processing, and final analysis."
   ]
  },
  {
   "cell_type": "code",
   "execution_count": 1,
   "id": "f992e141",
   "metadata": {},
   "outputs": [],
   "source": [
    "import pandas as pd\n",
    "import numpy as np\n",
    "import matplotlib.pyplot as plt\n",
    "import seaborn as sns"
   ]
  },
  {
   "cell_type": "code",
   "execution_count": 2,
   "id": "f12f9e3f",
   "metadata": {},
   "outputs": [
    {
     "data": {
      "text/html": [
       "<div>\n",
       "<style scoped>\n",
       "    .dataframe tbody tr th:only-of-type {\n",
       "        vertical-align: middle;\n",
       "    }\n",
       "\n",
       "    .dataframe tbody tr th {\n",
       "        vertical-align: top;\n",
       "    }\n",
       "\n",
       "    .dataframe thead th {\n",
       "        text-align: right;\n",
       "    }\n",
       "</style>\n",
       "<table border=\"1\" class=\"dataframe\">\n",
       "  <thead>\n",
       "    <tr style=\"text-align: right;\">\n",
       "      <th></th>\n",
       "      <th>URBRRL</th>\n",
       "      <th>RATCAT_C</th>\n",
       "      <th>INCTCFLG_C</th>\n",
       "      <th>IMPINCFLG_C</th>\n",
       "      <th>PPSU</th>\n",
       "      <th>PSTRAT</th>\n",
       "      <th>HISPALLP_C</th>\n",
       "      <th>RACEALLP_C</th>\n",
       "      <th>SCHDYMSSTC_C</th>\n",
       "      <th>AFNOW</th>\n",
       "      <th>...</th>\n",
       "      <th>PHSTAT_C</th>\n",
       "      <th>HHSTAT_C</th>\n",
       "      <th>INTV_MON</th>\n",
       "      <th>RECTYPE</th>\n",
       "      <th>IMPNUM_C</th>\n",
       "      <th>RELCHPARENTP1_C</th>\n",
       "      <th>RELCHPARENTP2_C</th>\n",
       "      <th>WTFA_C</th>\n",
       "      <th>HHX</th>\n",
       "      <th>POVRATTC_C</th>\n",
       "    </tr>\n",
       "  </thead>\n",
       "  <tbody>\n",
       "    <tr>\n",
       "      <th>0</th>\n",
       "      <td>4</td>\n",
       "      <td>14</td>\n",
       "      <td>0</td>\n",
       "      <td>0</td>\n",
       "      <td>2</td>\n",
       "      <td>122</td>\n",
       "      <td>3</td>\n",
       "      <td>2</td>\n",
       "      <td>0.0</td>\n",
       "      <td>2.0</td>\n",
       "      <td>...</td>\n",
       "      <td>1</td>\n",
       "      <td>1</td>\n",
       "      <td>1</td>\n",
       "      <td>20</td>\n",
       "      <td>1</td>\n",
       "      <td>1</td>\n",
       "      <td>1</td>\n",
       "      <td>13012.875</td>\n",
       "      <td>H045277</td>\n",
       "      <td>6.73</td>\n",
       "    </tr>\n",
       "    <tr>\n",
       "      <th>1</th>\n",
       "      <td>4</td>\n",
       "      <td>10</td>\n",
       "      <td>0</td>\n",
       "      <td>0</td>\n",
       "      <td>2</td>\n",
       "      <td>122</td>\n",
       "      <td>2</td>\n",
       "      <td>1</td>\n",
       "      <td>0.0</td>\n",
       "      <td>1.0</td>\n",
       "      <td>...</td>\n",
       "      <td>1</td>\n",
       "      <td>1</td>\n",
       "      <td>1</td>\n",
       "      <td>20</td>\n",
       "      <td>1</td>\n",
       "      <td>1</td>\n",
       "      <td>1</td>\n",
       "      <td>16680.509</td>\n",
       "      <td>H021192</td>\n",
       "      <td>3.43</td>\n",
       "    </tr>\n",
       "    <tr>\n",
       "      <th>2</th>\n",
       "      <td>4</td>\n",
       "      <td>5</td>\n",
       "      <td>0</td>\n",
       "      <td>0</td>\n",
       "      <td>2</td>\n",
       "      <td>122</td>\n",
       "      <td>2</td>\n",
       "      <td>1</td>\n",
       "      <td>5.0</td>\n",
       "      <td>2.0</td>\n",
       "      <td>...</td>\n",
       "      <td>1</td>\n",
       "      <td>1</td>\n",
       "      <td>1</td>\n",
       "      <td>20</td>\n",
       "      <td>1</td>\n",
       "      <td>1</td>\n",
       "      <td>4</td>\n",
       "      <td>5404.923</td>\n",
       "      <td>H025576</td>\n",
       "      <td>1.27</td>\n",
       "    </tr>\n",
       "  </tbody>\n",
       "</table>\n",
       "<p>3 rows × 370 columns</p>\n",
       "</div>"
      ],
      "text/plain": [
       "   URBRRL  RATCAT_C  INCTCFLG_C  IMPINCFLG_C  PPSU  PSTRAT  HISPALLP_C  \\\n",
       "0       4        14           0            0     2     122           3   \n",
       "1       4        10           0            0     2     122           2   \n",
       "2       4         5           0            0     2     122           2   \n",
       "\n",
       "   RACEALLP_C  SCHDYMSSTC_C  AFNOW  ...  PHSTAT_C  HHSTAT_C  INTV_MON  \\\n",
       "0           2           0.0    2.0  ...         1         1         1   \n",
       "1           1           0.0    1.0  ...         1         1         1   \n",
       "2           1           5.0    2.0  ...         1         1         1   \n",
       "\n",
       "   RECTYPE  IMPNUM_C  RELCHPARENTP1_C  RELCHPARENTP2_C     WTFA_C      HHX  \\\n",
       "0       20         1                1                1  13012.875  H045277   \n",
       "1       20         1                1                1  16680.509  H021192   \n",
       "2       20         1                1                4   5404.923  H025576   \n",
       "\n",
       "   POVRATTC_C  \n",
       "0        6.73  \n",
       "1        3.43  \n",
       "2        1.27  \n",
       "\n",
       "[3 rows x 370 columns]"
      ]
     },
     "execution_count": 2,
     "metadata": {},
     "output_type": "execute_result"
    }
   ],
   "source": [
    "child_summary = pd.read_csv('child23.csv')\n",
    "child_summary.head(3)"
   ]
  },
  {
   "cell_type": "markdown",
   "id": "b3c176f5",
   "metadata": {},
   "source": [
    "##### Sample Child respondent is the household respondent: The table was filtered to take responses from respondents who are the houselhold respondents"
   ]
  },
  {
   "cell_type": "code",
   "execution_count": 3,
   "id": "a23c4bb3",
   "metadata": {},
   "outputs": [
    {
     "data": {
      "text/plain": [
       "1.0    6634\n",
       "Name: HHRESPSC_FLG, dtype: int64"
      ]
     },
     "execution_count": 3,
     "metadata": {},
     "output_type": "execute_result"
    }
   ],
   "source": [
    "#HHRESPSC_FLG-Sample Child respondent is the household respondent\n",
    "#The table will be filtered based on respondents being the household respondent of surveys\n",
    "\n",
    "child_summary['HHRESPSC_FLG'].value_counts()"
   ]
  },
  {
   "cell_type": "code",
   "execution_count": 4,
   "id": "e39d458d",
   "metadata": {},
   "outputs": [
    {
     "data": {
      "text/plain": [
       "(6634, 370)"
      ]
     },
     "execution_count": 4,
     "metadata": {},
     "output_type": "execute_result"
    }
   ],
   "source": [
    "child_summary_updated_1 = child_summary[child_summary['HHRESPSC_FLG'].notnull()].copy()\n",
    "child_summary_updated_1.shape\n",
    "\n",
    "#Table has been filtered by respondent being the house hold respondent"
   ]
  },
  {
   "cell_type": "markdown",
   "id": "1cfd5706",
   "metadata": {},
   "source": [
    "##### Sex: Only Male and Females were chosen for this analysis"
   ]
  },
  {
   "cell_type": "code",
   "execution_count": 5,
   "id": "4e3faa2d",
   "metadata": {},
   "outputs": [
    {
     "data": {
      "text/plain": [
       "1    3426\n",
       "2    3203\n",
       "7       5\n",
       "Name: SEX_C, dtype: int64"
      ]
     },
     "execution_count": 5,
     "metadata": {},
     "output_type": "execute_result"
    }
   ],
   "source": [
    "child_summary_updated_1['SEX_C'].value_counts()\n",
    "\n",
    "#select only male and female"
   ]
  },
  {
   "cell_type": "code",
   "execution_count": 6,
   "id": "1e0e447f",
   "metadata": {},
   "outputs": [
    {
     "data": {
      "text/plain": [
       "1    3426\n",
       "2    3203\n",
       "Name: SEX_C, dtype: int64"
      ]
     },
     "execution_count": 6,
     "metadata": {},
     "output_type": "execute_result"
    }
   ],
   "source": [
    "#selecting only male and female\n",
    "\n",
    "child_summary_updated_2 = child_summary_updated_1[child_summary_updated_1['SEX_C'] != 7].copy()\n",
    "child_summary_updated_2['SEX_C'].value_counts()\n",
    "\n",
    "#only males and females are included in this study"
   ]
  },
  {
   "cell_type": "code",
   "execution_count": 7,
   "id": "a1663e1e",
   "metadata": {},
   "outputs": [
    {
     "data": {
      "text/plain": [
       "Male      3426\n",
       "Female    3203\n",
       "Name: SEX_C, dtype: int64"
      ]
     },
     "execution_count": 7,
     "metadata": {},
     "output_type": "execute_result"
    }
   ],
   "source": [
    "#Using names of gender and not numeric values\n",
    "child_summary_updated_2['SEX_C'] = child_summary_updated_2['SEX_C'].apply(lambda x: 'Male' if x==1 else 'Female')\n",
    "child_summary_updated_2['SEX_C'].value_counts()"
   ]
  },
  {
   "cell_type": "code",
   "execution_count": 8,
   "id": "7f3cdf54",
   "metadata": {},
   "outputs": [],
   "source": [
    "child_summary_updated_2['SEX_C'] = child_summary_updated_2['SEX_C'].astype('category')"
   ]
  },
  {
   "cell_type": "markdown",
   "id": "d9c882df",
   "metadata": {},
   "source": [
    "##### Adults in Family: These were binned as seen below"
   ]
  },
  {
   "cell_type": "code",
   "execution_count": 9,
   "id": "edaba73f",
   "metadata": {},
   "outputs": [
    {
     "data": {
      "text/plain": [
       "2 adults     4205\n",
       "3+ adults    1363\n",
       "1 adult      1060\n",
       "0 adults        1\n",
       "Name: PCNTADLT_C, dtype: int64"
      ]
     },
     "execution_count": 9,
     "metadata": {},
     "output_type": "execute_result"
    }
   ],
   "source": [
    "#using well-named categorical names\n",
    "\n",
    "child_summary_updated_2['PCNTADLT_C'] = child_summary_updated_2['PCNTADLT_C'].apply(\n",
    "                                                                            lambda x: '0 adults' if x==0 else \n",
    "                                                                                      '1 adult' if x==1 else\n",
    "                                                                                      '2 adults' if x==2 else\n",
    "                                                                                      '3+ adults')\n",
    "child_summary_updated_2['PCNTADLT_C'].value_counts()"
   ]
  },
  {
   "cell_type": "code",
   "execution_count": 10,
   "id": "f65396dd",
   "metadata": {},
   "outputs": [],
   "source": [
    "child_summary_updated_2['PCNTADLT_C'] = child_summary_updated_2['PCNTADLT_C'].astype('category')"
   ]
  },
  {
   "cell_type": "markdown",
   "id": "ffd18c6e",
   "metadata": {},
   "source": [
    "##### Kids in Family: These were binned as seen below"
   ]
  },
  {
   "cell_type": "code",
   "execution_count": 11,
   "id": "f44b1b7e",
   "metadata": {},
   "outputs": [
    {
     "data": {
      "text/plain": [
       "1 child        2799\n",
       "2 children     2438\n",
       "3+ children    1392\n",
       "Name: PCNTKIDS_C, dtype: int64"
      ]
     },
     "execution_count": 11,
     "metadata": {},
     "output_type": "execute_result"
    }
   ],
   "source": [
    "#using well-named categorical names\n",
    "\n",
    "child_summary_updated_2['PCNTKIDS_C'] = child_summary_updated_2['PCNTKIDS_C'].apply(\n",
    "                                                                            lambda x: '1 child' if x==1 else\n",
    "                                                                                      '2 children' if x==2 else\n",
    "                                                                                      '3+ children')\n",
    "child_summary_updated_2['PCNTKIDS_C'].value_counts()"
   ]
  },
  {
   "cell_type": "code",
   "execution_count": 12,
   "id": "6cb20738",
   "metadata": {},
   "outputs": [],
   "source": [
    "child_summary_updated_2['PCNTKIDS_C'] = child_summary_updated_2['PCNTKIDS_C'].astype('category')"
   ]
  },
  {
   "cell_type": "markdown",
   "id": "c98c3087",
   "metadata": {},
   "source": [
    "##### How often seems anxious, nervous, or worried"
   ]
  },
  {
   "cell_type": "code",
   "execution_count": 13,
   "id": "4c169ce2",
   "metadata": {},
   "outputs": [
    {
     "data": {
      "text/plain": [
       "Anxious        2476\n",
       "Not Anxious    2423\n",
       "Don't Know       11\n",
       "Refused           1\n",
       "Name: ANXFREQ_C, dtype: int64"
      ]
     },
     "execution_count": 13,
     "metadata": {},
     "output_type": "execute_result"
    }
   ],
   "source": [
    "child_summary_updated_2['ANXFREQ_C'] = child_summary_updated_2['ANXFREQ_C'].apply(lambda x: \"Not Anxious\" if x==5 \n",
    "                                                                   else 'Refused' if x==7\n",
    "                                                                  else 'Anxious' if x==1 or x==2 or x==3 or x==4\n",
    "                                                                  else \"Don't Know\" if x==9\n",
    "                                                                  else np.nan)\n",
    "child_summary_updated_2['ANXFREQ_C'].value_counts()"
   ]
  },
  {
   "cell_type": "code",
   "execution_count": 14,
   "id": "8c8a4251",
   "metadata": {},
   "outputs": [],
   "source": [
    "child_summary_updated_2['ANXFREQ_C'] = child_summary_updated_2['ANXFREQ_C'].astype('category')"
   ]
  },
  {
   "cell_type": "markdown",
   "id": "087a48eb",
   "metadata": {},
   "source": [
    "##### How often seems sad or depressed"
   ]
  },
  {
   "cell_type": "code",
   "execution_count": 15,
   "id": "4cb4d4ed",
   "metadata": {},
   "outputs": [
    {
     "data": {
      "text/plain": [
       "5.0    3316\n",
       "4.0     996\n",
       "3.0     312\n",
       "2.0     203\n",
       "1.0      70\n",
       "9.0      12\n",
       "7.0       2\n",
       "Name: DEPFREQ_C, dtype: int64"
      ]
     },
     "execution_count": 15,
     "metadata": {},
     "output_type": "execute_result"
    }
   ],
   "source": [
    "child_summary_updated_2['DEPFREQ_C'].value_counts()"
   ]
  },
  {
   "cell_type": "code",
   "execution_count": 16,
   "id": "576240b1",
   "metadata": {},
   "outputs": [
    {
     "data": {
      "text/plain": [
       "Not depressed    3316\n",
       "Depressed        1581\n",
       "Don't Know         12\n",
       "Refused             2\n",
       "Name: DEPFREQ_C, dtype: int64"
      ]
     },
     "execution_count": 16,
     "metadata": {},
     "output_type": "execute_result"
    }
   ],
   "source": [
    "child_summary_updated_2['DEPFREQ_C'] = child_summary_updated_2['DEPFREQ_C'].apply(lambda x: \"Not depressed\" if x==5 \n",
    "                                                                   else 'Refused' if x==7\n",
    "                                                                  else 'Depressed' if x==1 or x==2 or x==3 or x==4\n",
    "                                                                  else \"Don't Know\" if x==9\n",
    "                                                                  else np.nan)\n",
    "child_summary_updated_2['DEPFREQ_C'].value_counts()"
   ]
  },
  {
   "cell_type": "markdown",
   "id": "eb46aed3",
   "metadata": {},
   "source": [
    "##### General health status: Binning health status into \"Excellent, Very good, Good\" and \"Fair, Poor\""
   ]
  },
  {
   "cell_type": "code",
   "execution_count": 17,
   "id": "8c24a883",
   "metadata": {},
   "outputs": [
    {
     "data": {
      "text/plain": [
       "1    4344\n",
       "2    1389\n",
       "3     745\n",
       "4     128\n",
       "5      20\n",
       "7       2\n",
       "9       1\n",
       "Name: PHSTAT_C, dtype: int64"
      ]
     },
     "execution_count": 17,
     "metadata": {},
     "output_type": "execute_result"
    }
   ],
   "source": [
    "child_summary_updated_2['PHSTAT_C'].value_counts()"
   ]
  },
  {
   "cell_type": "code",
   "execution_count": 18,
   "id": "9a640b3e",
   "metadata": {},
   "outputs": [],
   "source": [
    "child_summary_updated_2['PHSTAT_C'] = child_summary_updated_2['PHSTAT_C'].apply(lambda x: \"Excellent, Very good, Good\" \n",
    "                                                                                 if x==1 or x==2 or x==3\n",
    "                                                                                 else \"Fair, Poor\" if x==4 or x==5\n",
    "                                                                                 else 'Refused' if x==7\n",
    "                                                                                 else \"Don't know\" if x==9\n",
    "                                                                                 else np.nan)"
   ]
  },
  {
   "cell_type": "code",
   "execution_count": 19,
   "id": "e926c25c",
   "metadata": {},
   "outputs": [
    {
     "data": {
      "text/plain": [
       "Excellent, Very good, Good    6478\n",
       "Fair, Poor                     148\n",
       "Refused                          2\n",
       "Don't know                       1\n",
       "Name: PHSTAT_C, dtype: int64"
      ]
     },
     "execution_count": 19,
     "metadata": {},
     "output_type": "execute_result"
    }
   ],
   "source": [
    "child_summary_updated_2['PHSTAT_C'].value_counts()"
   ]
  },
  {
   "cell_type": "markdown",
   "id": "11df906c",
   "metadata": {},
   "source": [
    "#### The function will rename the values in the columns_to_use list found below"
   ]
  },
  {
   "cell_type": "code",
   "execution_count": 20,
   "id": "611de7fc",
   "metadata": {},
   "outputs": [],
   "source": [
    "columns_to_use = ['HICOV_C', 'SCHSPEDEV_C', 'SCHSPED_C', 'SCHSPEDEM_C', \n",
    "                    'COMSUPPORT_C', 'JAILEV1_C', 'VIOLENEV_C',  'MENTDEPEV_C',\n",
    "                    'ALCDRUGEV_C', 'MHRX_C' , 'MHTHRPY_C', 'BNEEDS_C', 'PARWKFT1_C',\n",
    "                    'NATUSBORN_C', 'CITZNSTP_C', 'FSNAP12M_C', 'FWIC12M_C', 'ADHDEV_C', 'ADHDNW_C',\n",
    "                     'ASDEV_C', 'ASDNW_C', 'DDEV_C', 'DDNW_C', 'DISAB5_C']\n"
   ]
  },
  {
   "cell_type": "code",
   "execution_count": 21,
   "id": "8de7952d",
   "metadata": {},
   "outputs": [],
   "source": [
    "def clean_1(dataframe, columns):\n",
    "    for col in columns:\n",
    "        dataframe[col] = dataframe[col].apply(lambda x: 'Yes' \n",
    "                                               if x==1 else 'No' \n",
    "                                               if x==2 else \"Don't Know\" \n",
    "                                               if x==9 else 'Not ascertained' \n",
    "                                               if x==8 else 'Refused' \n",
    "                                               if x==7 else np.nan)"
   ]
  },
  {
   "cell_type": "code",
   "execution_count": 22,
   "id": "fbce6adc",
   "metadata": {},
   "outputs": [],
   "source": [
    "clean_1(child_summary_updated_2, columns_to_use)"
   ]
  },
  {
   "cell_type": "markdown",
   "id": "4977ac64",
   "metadata": {},
   "source": [
    "###### Coverage status as used in Health United States"
   ]
  },
  {
   "cell_type": "code",
   "execution_count": 23,
   "id": "6bebaea0",
   "metadata": {},
   "outputs": [
    {
     "data": {
      "text/plain": [
       "Covered        6376\n",
       "Not covered     235\n",
       "Don't Know       18\n",
       "Name: NOTCOV_C, dtype: int64"
      ]
     },
     "execution_count": 23,
     "metadata": {},
     "output_type": "execute_result"
    }
   ],
   "source": [
    "child_summary_updated_2['NOTCOV_C'] = child_summary_updated_2['NOTCOV_C'].apply(lambda x: 'Not covered' \n",
    "                                                                               if x==1 else 'Covered' \n",
    "                                                                               if x==2 else \"Don't Know\" \n",
    "                                                                               if x==9 else np.nan)\n",
    "child_summary_updated_2['NOTCOV_C'].value_counts()"
   ]
  },
  {
   "cell_type": "markdown",
   "id": "9a3b4f3f",
   "metadata": {},
   "source": [
    "##### REGION"
   ]
  },
  {
   "cell_type": "code",
   "execution_count": 24,
   "id": "b785d187",
   "metadata": {},
   "outputs": [
    {
     "data": {
      "text/plain": [
       "South        2484\n",
       "West         1792\n",
       "Midwest      1392\n",
       "Northeast     961\n",
       "Name: REGION, dtype: int64"
      ]
     },
     "execution_count": 24,
     "metadata": {},
     "output_type": "execute_result"
    }
   ],
   "source": [
    "child_summary_updated_2['REGION'] = child_summary_updated_2['REGION'].apply(lambda x: 'Northeast' \n",
    "                                                                               if x==1 else 'Midwest' \n",
    "                                                                               if x==2 else \"South\" \n",
    "                                                                               if x==3 else 'West')\n",
    "child_summary_updated_2['REGION'].value_counts()"
   ]
  },
  {
   "cell_type": "markdown",
   "id": "203c82a7",
   "metadata": {},
   "source": [
    "##### Highest level of education of all SC's parents: Binning the education types into High School or less, College degree, Bachelors and above"
   ]
  },
  {
   "cell_type": "code",
   "execution_count": 25,
   "id": "4f06154e",
   "metadata": {},
   "outputs": [
    {
     "data": {
      "text/plain": [
       "Bachelor's degree & above    3236\n",
       "Some college degree          1662\n",
       "High school or less          1561\n",
       "Name: MAXPAREDUP_C, dtype: int64"
      ]
     },
     "execution_count": 25,
     "metadata": {},
     "output_type": "execute_result"
    }
   ],
   "source": [
    "child_summary_updated_2['MAXPAREDUP_C'] = child_summary_updated_2['MAXPAREDUP_C'].apply(\n",
    "                                lambda x: 'High school or less' if x==1 or x==2 or x==3 or x==4 \n",
    "                                else \"Some college degree\" if x==5 or x==6 or x==7 \n",
    "                                else \"Bachelor's degree & above\" if x==8 or x==9 or x==10 else np.nan)\n",
    "\n",
    "child_summary_updated_2['MAXPAREDUP_C'].value_counts()"
   ]
  },
  {
   "cell_type": "markdown",
   "id": "6e7b066a",
   "metadata": {},
   "source": [
    "##### Hispanic origin detail"
   ]
  },
  {
   "cell_type": "code",
   "execution_count": 26,
   "id": "a28cda0f",
   "metadata": {},
   "outputs": [
    {
     "data": {
      "text/plain": [
       "Not Hispanic                           4849\n",
       "Hispanic (Mexican/Mexican American)    1072\n",
       "Hispanic (all other groups)             683\n",
       "Not ascertained                          20\n",
       "Don't Know                                5\n",
       "Name: HISDETP_C, dtype: int64"
      ]
     },
     "execution_count": 26,
     "metadata": {},
     "output_type": "execute_result"
    }
   ],
   "source": [
    "child_summary_updated_2['HISDETP_C'] = child_summary_updated_2['HISDETP_C'].apply(lambda x: 'Hispanic (Mexican/Mexican American)' \n",
    "                                               if x==1 else 'Hispanic (all other groups)' \n",
    "                                               if x==2 else \"Don't Know\" \n",
    "                                               if x==9 else 'Not ascertained' \n",
    "                                               if x==8 else 'Not Hispanic' \n",
    "                                               if x==3 else np.nan)\n",
    "\n",
    "child_summary_updated_2['HISDETP_C'].value_counts()"
   ]
  },
  {
   "cell_type": "code",
   "execution_count": 27,
   "id": "79a62f7b",
   "metadata": {},
   "outputs": [],
   "source": [
    "#Selecting the columns to use\n",
    "\n",
    "all_columns = ['REGION', 'SEX_C', 'AGEP_C', 'PCNTADLT_C', \n",
    "               'PCNTKIDS_C', 'ADHDEV_C', 'ADHDNW_C', \n",
    "              'ASDEV_C', 'ASDNW_C','DDEV_C', 'DDNW_C', 'DISAB5_C',\n",
    "              'SCHDYMSSTC_C', 'SCHSPEDEV_C', 'SCHSPED_C', \n",
    "              'SCHSPEDEM_C', 'NOTCOV_C', 'HICOV_C',\n",
    "              'COMSUPPORT_C', 'JAILEV1_C', 'VIOLENEV_C',\n",
    "              'MENTDEPEV_C', 'ALCDRUGEV_C', 'LASTDR_C', \n",
    "              'MHRX_C', 'MHTHRPY_C', 'BNEEDS_C', 'PARWKFT1_C',\n",
    "              'MAXPAREDUP_C', 'POVRATTC_C', 'NATUSBORN_C',\n",
    "              'CITZNSTP_C', 'FSNAP12M_C', 'FWIC12M_C', \n",
    "              'HISDETP_C', 'RATCAT_C', 'PHSTAT_C', 'ANXFREQ_C',\n",
    "              'DEPFREQ_C']"
   ]
  },
  {
   "cell_type": "code",
   "execution_count": 28,
   "id": "c5aa053d",
   "metadata": {},
   "outputs": [
    {
     "data": {
      "text/html": [
       "<div>\n",
       "<style scoped>\n",
       "    .dataframe tbody tr th:only-of-type {\n",
       "        vertical-align: middle;\n",
       "    }\n",
       "\n",
       "    .dataframe tbody tr th {\n",
       "        vertical-align: top;\n",
       "    }\n",
       "\n",
       "    .dataframe thead th {\n",
       "        text-align: right;\n",
       "    }\n",
       "</style>\n",
       "<table border=\"1\" class=\"dataframe\">\n",
       "  <thead>\n",
       "    <tr style=\"text-align: right;\">\n",
       "      <th></th>\n",
       "      <th>REGION</th>\n",
       "      <th>SEX_C</th>\n",
       "      <th>AGEP_C</th>\n",
       "      <th>PCNTADLT_C</th>\n",
       "      <th>PCNTKIDS_C</th>\n",
       "      <th>ADHDEV_C</th>\n",
       "      <th>ADHDNW_C</th>\n",
       "      <th>ASDEV_C</th>\n",
       "      <th>ASDNW_C</th>\n",
       "      <th>DDEV_C</th>\n",
       "      <th>...</th>\n",
       "      <th>POVRATTC_C</th>\n",
       "      <th>NATUSBORN_C</th>\n",
       "      <th>CITZNSTP_C</th>\n",
       "      <th>FSNAP12M_C</th>\n",
       "      <th>FWIC12M_C</th>\n",
       "      <th>HISDETP_C</th>\n",
       "      <th>RATCAT_C</th>\n",
       "      <th>PHSTAT_C</th>\n",
       "      <th>ANXFREQ_C</th>\n",
       "      <th>DEPFREQ_C</th>\n",
       "    </tr>\n",
       "  </thead>\n",
       "  <tbody>\n",
       "    <tr>\n",
       "      <th>0</th>\n",
       "      <td>South</td>\n",
       "      <td>Female</td>\n",
       "      <td>14</td>\n",
       "      <td>2 adults</td>\n",
       "      <td>2 children</td>\n",
       "      <td>No</td>\n",
       "      <td>NaN</td>\n",
       "      <td>No</td>\n",
       "      <td>NaN</td>\n",
       "      <td>No</td>\n",
       "      <td>...</td>\n",
       "      <td>6.73</td>\n",
       "      <td>Yes</td>\n",
       "      <td>Yes</td>\n",
       "      <td>No</td>\n",
       "      <td>No</td>\n",
       "      <td>Not Hispanic</td>\n",
       "      <td>14</td>\n",
       "      <td>Excellent, Very good, Good</td>\n",
       "      <td>Not Anxious</td>\n",
       "      <td>Not depressed</td>\n",
       "    </tr>\n",
       "    <tr>\n",
       "      <th>2</th>\n",
       "      <td>South</td>\n",
       "      <td>Male</td>\n",
       "      <td>15</td>\n",
       "      <td>2 adults</td>\n",
       "      <td>1 child</td>\n",
       "      <td>No</td>\n",
       "      <td>NaN</td>\n",
       "      <td>No</td>\n",
       "      <td>NaN</td>\n",
       "      <td>No</td>\n",
       "      <td>...</td>\n",
       "      <td>1.27</td>\n",
       "      <td>Yes</td>\n",
       "      <td>Yes</td>\n",
       "      <td>No</td>\n",
       "      <td>No</td>\n",
       "      <td>Not Hispanic</td>\n",
       "      <td>5</td>\n",
       "      <td>Excellent, Very good, Good</td>\n",
       "      <td>Not Anxious</td>\n",
       "      <td>Not depressed</td>\n",
       "    </tr>\n",
       "  </tbody>\n",
       "</table>\n",
       "<p>2 rows × 39 columns</p>\n",
       "</div>"
      ],
      "text/plain": [
       "  REGION   SEX_C  AGEP_C PCNTADLT_C  PCNTKIDS_C ADHDEV_C ADHDNW_C ASDEV_C  \\\n",
       "0  South  Female      14   2 adults  2 children       No      NaN      No   \n",
       "2  South    Male      15   2 adults     1 child       No      NaN      No   \n",
       "\n",
       "  ASDNW_C DDEV_C  ... POVRATTC_C NATUSBORN_C  CITZNSTP_C FSNAP12M_C FWIC12M_C  \\\n",
       "0     NaN     No  ...       6.73         Yes         Yes         No        No   \n",
       "2     NaN     No  ...       1.27         Yes         Yes         No        No   \n",
       "\n",
       "      HISDETP_C RATCAT_C                    PHSTAT_C    ANXFREQ_C  \\\n",
       "0  Not Hispanic       14  Excellent, Very good, Good  Not Anxious   \n",
       "2  Not Hispanic        5  Excellent, Very good, Good  Not Anxious   \n",
       "\n",
       "       DEPFREQ_C  \n",
       "0  Not depressed  \n",
       "2  Not depressed  \n",
       "\n",
       "[2 rows x 39 columns]"
      ]
     },
     "execution_count": 28,
     "metadata": {},
     "output_type": "execute_result"
    }
   ],
   "source": [
    "all_data = child_summary_updated_2[all_columns].copy()\n",
    "all_data.head(2)"
   ]
  },
  {
   "cell_type": "code",
   "execution_count": 29,
   "id": "db558c7f",
   "metadata": {},
   "outputs": [
    {
     "data": {
      "text/html": [
       "<div>\n",
       "<style scoped>\n",
       "    .dataframe tbody tr th:only-of-type {\n",
       "        vertical-align: middle;\n",
       "    }\n",
       "\n",
       "    .dataframe tbody tr th {\n",
       "        vertical-align: top;\n",
       "    }\n",
       "\n",
       "    .dataframe thead th {\n",
       "        text-align: right;\n",
       "    }\n",
       "</style>\n",
       "<table border=\"1\" class=\"dataframe\">\n",
       "  <thead>\n",
       "    <tr style=\"text-align: right;\">\n",
       "      <th></th>\n",
       "      <th>Region</th>\n",
       "      <th>Sex</th>\n",
       "      <th>Age</th>\n",
       "      <th>Num_of_adults</th>\n",
       "      <th>Num_of_children</th>\n",
       "      <th>Ever_had_ADD_ADHD</th>\n",
       "      <th>Curr_has_ADD_ADHD</th>\n",
       "      <th>Ever_had_autism</th>\n",
       "      <th>Curr_has_autism</th>\n",
       "      <th>Ever_had_devel_delay</th>\n",
       "      <th>...</th>\n",
       "      <th>Fam_Poverty_ratio</th>\n",
       "      <th>Born_in_US</th>\n",
       "      <th>Citizenship</th>\n",
       "      <th>Food_stamps</th>\n",
       "      <th>WIC_benefits</th>\n",
       "      <th>Origin</th>\n",
       "      <th>Ratio_of_family_income_to_poverty</th>\n",
       "      <th>General_health_status</th>\n",
       "      <th>Anxious_Nervous_Worried</th>\n",
       "      <th>Sad_Depressed</th>\n",
       "    </tr>\n",
       "  </thead>\n",
       "  <tbody>\n",
       "    <tr>\n",
       "      <th>0</th>\n",
       "      <td>South</td>\n",
       "      <td>Female</td>\n",
       "      <td>14</td>\n",
       "      <td>2 adults</td>\n",
       "      <td>2 children</td>\n",
       "      <td>No</td>\n",
       "      <td>NaN</td>\n",
       "      <td>No</td>\n",
       "      <td>NaN</td>\n",
       "      <td>No</td>\n",
       "      <td>...</td>\n",
       "      <td>6.73</td>\n",
       "      <td>Yes</td>\n",
       "      <td>Yes</td>\n",
       "      <td>No</td>\n",
       "      <td>No</td>\n",
       "      <td>Not Hispanic</td>\n",
       "      <td>14</td>\n",
       "      <td>Excellent, Very good, Good</td>\n",
       "      <td>Not Anxious</td>\n",
       "      <td>Not depressed</td>\n",
       "    </tr>\n",
       "    <tr>\n",
       "      <th>2</th>\n",
       "      <td>South</td>\n",
       "      <td>Male</td>\n",
       "      <td>15</td>\n",
       "      <td>2 adults</td>\n",
       "      <td>1 child</td>\n",
       "      <td>No</td>\n",
       "      <td>NaN</td>\n",
       "      <td>No</td>\n",
       "      <td>NaN</td>\n",
       "      <td>No</td>\n",
       "      <td>...</td>\n",
       "      <td>1.27</td>\n",
       "      <td>Yes</td>\n",
       "      <td>Yes</td>\n",
       "      <td>No</td>\n",
       "      <td>No</td>\n",
       "      <td>Not Hispanic</td>\n",
       "      <td>5</td>\n",
       "      <td>Excellent, Very good, Good</td>\n",
       "      <td>Not Anxious</td>\n",
       "      <td>Not depressed</td>\n",
       "    </tr>\n",
       "  </tbody>\n",
       "</table>\n",
       "<p>2 rows × 39 columns</p>\n",
       "</div>"
      ],
      "text/plain": [
       "  Region     Sex  Age Num_of_adults Num_of_children Ever_had_ADD_ADHD  \\\n",
       "0  South  Female   14      2 adults      2 children                No   \n",
       "2  South    Male   15      2 adults         1 child                No   \n",
       "\n",
       "  Curr_has_ADD_ADHD Ever_had_autism Curr_has_autism Ever_had_devel_delay  ...  \\\n",
       "0               NaN              No             NaN                   No  ...   \n",
       "2               NaN              No             NaN                   No  ...   \n",
       "\n",
       "  Fam_Poverty_ratio Born_in_US  Citizenship Food_stamps WIC_benefits  \\\n",
       "0              6.73        Yes          Yes          No           No   \n",
       "2              1.27        Yes          Yes          No           No   \n",
       "\n",
       "         Origin Ratio_of_family_income_to_poverty       General_health_status  \\\n",
       "0  Not Hispanic                                14  Excellent, Very good, Good   \n",
       "2  Not Hispanic                                 5  Excellent, Very good, Good   \n",
       "\n",
       "  Anxious_Nervous_Worried  Sad_Depressed  \n",
       "0             Not Anxious  Not depressed  \n",
       "2             Not Anxious  Not depressed  \n",
       "\n",
       "[2 rows x 39 columns]"
      ]
     },
     "execution_count": 29,
     "metadata": {},
     "output_type": "execute_result"
    }
   ],
   "source": [
    "#Renaming the variables\n",
    "\n",
    "all_data_updated_1 = all_data.rename({'REGION':'Region', \n",
    "                                        'SEX_C':'Sex', \n",
    "                                        'AGEP_C':'Age',\n",
    "                                        'PCNTADLT_C':'Num_of_adults',\n",
    "                                        'PCNTKIDS_C':'Num_of_children',\n",
    "                                        'ADHDEV_C':'Ever_had_ADD_ADHD',\n",
    "                                        'ADHDNW_C':'Curr_has_ADD_ADHD',\n",
    "                                        'ASDEV_C':'Ever_had_autism',\n",
    "                                        'ASDNW_C':'Curr_has_autism',\n",
    "                                        'DDEV_C':'Ever_had_devel_delay',\n",
    "                                        'DDNW_C':'Curr_has_devel_delay',\n",
    "                                        'DISAB5_C':'Disability',\n",
    "                                        'SCHDYMSSTC_C':'Days_of_school_missed', \n",
    "                                        'SCHSPEDEV_C':'Special_Edu',\n",
    "                                        'SCHSPED_C':'Cur_Special_Edu',\n",
    "                                        'SCHSPEDEM_C':'Services_for_mental health',\n",
    "                                        'NOTCOV_C':'Coverage_status',\n",
    "                                        'HICOV_C':'Health_insurance',\n",
    "                                        'COMSUPPORT_C':'Community_support',\n",
    "                                        'JAILEV1_C':'SFP_incarcerated',\n",
    "                                        'VIOLENEV_C':'Victim_or_witnessed_violence',\n",
    "                                        'MENTDEPEV_C':'LWAA_D',\n",
    "                                        'ALCDRUGEV_C':'LWAMD',\n",
    "                                        'LASTDR_C':'TSLSD', \n",
    "                                        'MHRX_C':'TMFMH',\n",
    "                                        'MHTHRPY_C':'Received_couns/therapy',\n",
    "                                        'BNEEDS_C':'Lacking_basic_needs',\n",
    "                                        'PARWKFT1_C':'Parent_works',\n",
    "                                        'MAXPAREDUP_C':'Parent_edu',\n",
    "                                        'POVRATTC_C':'Fam_Poverty_ratio',\n",
    "                                        'NATUSBORN_C':'Born_in_US',\n",
    "                                        'CITZNSTP_C':'Citizenship',\n",
    "                                        'FSNAP12M_C':'Food_stamps',\n",
    "                                        'FWIC12M_C':'WIC_benefits',\n",
    "                                        'HISDETP_C':'Origin',\n",
    "                                        'RATCAT_C':'Ratio_of_family_income_to_poverty', \n",
    "                                        'PHSTAT_C':'General_health_status', \n",
    "                                        'ANXFREQ_C':'Anxious_Nervous_Worried', \n",
    "                                        'DEPFREQ_C':'Sad_Depressed' \n",
    "                                        }, axis=1).copy()\n",
    "all_data_updated_1.head(2)"
   ]
  },
  {
   "cell_type": "markdown",
   "id": "8141a43d",
   "metadata": {},
   "source": [
    "##### More pre-processing"
   ]
  },
  {
   "cell_type": "code",
   "execution_count": 30,
   "id": "45f18474",
   "metadata": {},
   "outputs": [],
   "source": [
    "#selecting variables I want to use\n",
    "\n",
    "general_health_features = ['Region', \n",
    "                           'Sex',\n",
    "                           'Age',\n",
    "                           'Num_of_children',\n",
    "                           'Days_of_school_missed', \n",
    "                           'Special_Edu',\n",
    "                           'Coverage_status',\n",
    "                           'Health_insurance', \n",
    "                           'TSLSD',\n",
    "                           'Lacking_basic_needs',\n",
    "                           'Parent_works',\n",
    "                           'Parent_edu', \n",
    "                           'Fam_Poverty_ratio',\n",
    "                           'Born_in_US', \n",
    "                           'Citizenship',\n",
    "                           'Origin', \n",
    "                           'Food_stamps',\n",
    "                           'WIC_benefits',\n",
    "                           'Ever_had_ADD_ADHD',\n",
    "                           'Ever_had_autism',\n",
    "                           'Ever_had_devel_delay',\n",
    "                           'SFP_incarcerated',\n",
    "                           'LWAA_D',\n",
    "                           'LWAMD',\n",
    "                           'Victim_or_witnessed_violence',\n",
    "                          'General_health_status',\n",
    "                          'Ratio_of_family_income_to_poverty']\n",
    "\n",
    "general_health_data = all_data_updated_1[general_health_features].copy() #only these variables will be used."
   ]
  },
  {
   "cell_type": "markdown",
   "id": "a55a15d8",
   "metadata": {},
   "source": [
    "##### Selecting only 'yes' or 'no' values in the variables contained in columns_yes_no using a function I created"
   ]
  },
  {
   "cell_type": "code",
   "execution_count": 31,
   "id": "5a1953f5",
   "metadata": {},
   "outputs": [],
   "source": [
    "#Columns with NO, YES, AND OTHER VALUES. THESE COLUMNS MUST CONTAIN ONLY YES OR NO VALUES.\n",
    "\n",
    "columns_yes_no = ['Ever_had_ADD_ADHD','Ever_had_autism',\n",
    "                 'Ever_had_devel_delay','SFP_incarcerated', \n",
    "                 'LWAA_D', 'LWAMD', 'Victim_or_witnessed_violence', \n",
    "                 'Special_Edu', 'Health_insurance',\n",
    "                 'Lacking_basic_needs', 'Parent_works', 'Born_in_US', 'Citizenship', \n",
    "                 'Food_stamps', 'WIC_benefits' ]"
   ]
  },
  {
   "cell_type": "code",
   "execution_count": 32,
   "id": "6d4e6196",
   "metadata": {},
   "outputs": [],
   "source": [
    "#This function selects only responses that are YES or No in the features contained in the list called columns_yes_no\n",
    "#Yes or No are then classified as categorical values.\n",
    "\n",
    "def clean(df,columns):\n",
    "    for col in columns:\n",
    "        keep = df[col]\n",
    "        keep_1 = df.loc[(keep == 'No') | (keep == 'Yes'), col].astype('category')\n",
    "        df[col] = keep_1"
   ]
  },
  {
   "cell_type": "code",
   "execution_count": 33,
   "id": "3a4b128e",
   "metadata": {},
   "outputs": [],
   "source": [
    "#applying the function\n",
    "\n",
    "clean(general_health_data, columns_yes_no)"
   ]
  },
  {
   "cell_type": "markdown",
   "id": "9362efe3",
   "metadata": {},
   "source": [
    "###### Coverage status: selecting only 'Covered' or 'Not covered' values in this column and setting the column as a categorical variable"
   ]
  },
  {
   "cell_type": "code",
   "execution_count": 34,
   "id": "eb470399",
   "metadata": {},
   "outputs": [],
   "source": [
    "coverage = general_health_data['Coverage_status']"
   ]
  },
  {
   "cell_type": "code",
   "execution_count": 35,
   "id": "deb82754",
   "metadata": {},
   "outputs": [],
   "source": [
    "coverage_1 = general_health_data.loc[(coverage=='Covered') | (coverage=='Not covered'),\n",
    "                                     'Coverage_status'].astype('category')"
   ]
  },
  {
   "cell_type": "code",
   "execution_count": 36,
   "id": "75c0f174",
   "metadata": {},
   "outputs": [],
   "source": [
    "general_health_data['Coverage_status'] = coverage_1"
   ]
  },
  {
   "cell_type": "markdown",
   "id": "9df1e31b",
   "metadata": {},
   "source": [
    "###### Highest lev. of edu. of parents: Setting this variable as a categorical variable"
   ]
  },
  {
   "cell_type": "code",
   "execution_count": 37,
   "id": "733df507",
   "metadata": {},
   "outputs": [],
   "source": [
    "general_health_data['Parent_edu'] = general_health_data['Parent_edu'].astype('category')"
   ]
  },
  {
   "cell_type": "markdown",
   "id": "e50d82c8",
   "metadata": {},
   "source": [
    "###### Hispanic origin detail: Selecting origin as 'Not Hispanic' or 'Hispanic (Mexican/Mexican American)' or 'Hispanic (all other groups)'"
   ]
  },
  {
   "cell_type": "code",
   "execution_count": 38,
   "id": "4223fdbe",
   "metadata": {},
   "outputs": [],
   "source": [
    "origin = general_health_data['Origin']"
   ]
  },
  {
   "cell_type": "code",
   "execution_count": 39,
   "id": "92faa2ae",
   "metadata": {},
   "outputs": [],
   "source": [
    "origin_1 = general_health_data.loc[(origin=='Not Hispanic')|\n",
    "                                   (origin=='Hispanic (Mexican/Mexican American)')|\n",
    "                                   (origin=='Hispanic (all other groups)'),\n",
    "                                       'Origin'].astype('category')"
   ]
  },
  {
   "cell_type": "code",
   "execution_count": 40,
   "id": "bc02af73",
   "metadata": {},
   "outputs": [],
   "source": [
    "general_health_data['Origin'] = origin_1"
   ]
  },
  {
   "cell_type": "markdown",
   "id": "3c3eef89",
   "metadata": {},
   "source": [
    "# DEPENDENT VARIABLE\n",
    "##### General health status: This is used as a dependent variable for the logistic regression model. 0 is chosen for \"Excellent, Very good, Good\" status while 1 is for \"Fair, Poor\""
   ]
  },
  {
   "cell_type": "code",
   "execution_count": 41,
   "id": "4ea113c0",
   "metadata": {},
   "outputs": [],
   "source": [
    "gen_health = general_health_data['General_health_status']"
   ]
  },
  {
   "cell_type": "code",
   "execution_count": 42,
   "id": "38834b69",
   "metadata": {},
   "outputs": [],
   "source": [
    "gen_health_1 = general_health_data.loc[(gen_health=='Excellent, Very good, Good')|\n",
    "                                       (gen_health=='Fair, Poor'),\n",
    "                                       'General_health_status']"
   ]
  },
  {
   "cell_type": "code",
   "execution_count": 43,
   "id": "f35f6cc6",
   "metadata": {},
   "outputs": [],
   "source": [
    "general_health_data['General_health_status'] = gen_health_1.apply(lambda x: 0 \n",
    "                                                                  if x=='Excellent, Very good, Good' \n",
    "                                                                  else 1).astype('int')"
   ]
  },
  {
   "cell_type": "markdown",
   "id": "25eece5d",
   "metadata": {},
   "source": [
    "##### Handling duplicates and missing vales"
   ]
  },
  {
   "cell_type": "code",
   "execution_count": 44,
   "id": "9d0c686d",
   "metadata": {},
   "outputs": [],
   "source": [
    "#dropping duplicated observations\n",
    "\n",
    "general_health_data.drop_duplicates(inplace=True)"
   ]
  },
  {
   "cell_type": "code",
   "execution_count": 45,
   "id": "6704e30e",
   "metadata": {},
   "outputs": [],
   "source": [
    "#dropping any column with missing values\n",
    "\n",
    "general_health_data.dropna(inplace=True)"
   ]
  },
  {
   "cell_type": "markdown",
   "id": "99a07f99",
   "metadata": {},
   "source": [
    "# MODEL 1"
   ]
  },
  {
   "cell_type": "markdown",
   "id": "40280943",
   "metadata": {},
   "source": [
    "# ODDS RATIO FOR GENERAL HEALTH STATUS MODEL"
   ]
  },
  {
   "cell_type": "code",
   "execution_count": 46,
   "id": "e4a8bf65",
   "metadata": {},
   "outputs": [],
   "source": [
    "import statsmodels.formula.api as smf "
   ]
  },
  {
   "cell_type": "code",
   "execution_count": 47,
   "id": "fbebec0d",
   "metadata": {},
   "outputs": [],
   "source": [
    "#formula for Logistic model\n",
    "\n",
    "formula=('General_health_status ~ Region + Sex + Age +  '\n",
    "                            'Days_of_school_missed +'\n",
    "                            'Health_insurance + TSLSD + '\n",
    "                            'Lacking_basic_needs + '\n",
    "                            'Fam_Poverty_ratio + '\n",
    "                            'Food_stamps + Ever_had_ADD_ADHD + Ever_had_autism + Ever_had_devel_delay +'\n",
    "                            'WIC_benefits')"
   ]
  },
  {
   "cell_type": "code",
   "execution_count": 48,
   "id": "cd5c6993",
   "metadata": {},
   "outputs": [
    {
     "name": "stdout",
     "output_type": "stream",
     "text": [
      "Optimization terminated successfully.\n",
      "         Current function value: 0.079850\n",
      "         Iterations 10\n"
     ]
    }
   ],
   "source": [
    "#Fitting the model\n",
    "\n",
    "reg = smf.logit(formula=formula ,data=general_health_data).fit()"
   ]
  },
  {
   "cell_type": "code",
   "execution_count": 49,
   "id": "6693627b",
   "metadata": {},
   "outputs": [
    {
     "name": "stdout",
     "output_type": "stream",
     "text": [
      "                             Logit Regression Results                            \n",
      "=================================================================================\n",
      "Dep. Variable:     General_health_status   No. Observations:                 3548\n",
      "Model:                             Logit   Df Residuals:                     3532\n",
      "Method:                              MLE   Df Model:                           15\n",
      "Date:                   Sun, 18 Aug 2024   Pseudo R-squ.:                  0.1859\n",
      "Time:                           15:07:49   Log-Likelihood:                -283.31\n",
      "converged:                          True   LL-Null:                       -348.00\n",
      "Covariance Type:               nonrobust   LLR p-value:                 2.807e-20\n",
      "===============================================================================================\n",
      "                                  coef    std err          z      P>|z|      [0.025      0.975]\n",
      "-----------------------------------------------------------------------------------------------\n",
      "Intercept                      -5.8207      1.453     -4.005      0.000      -8.669      -2.972\n",
      "Region[T.Northeast]             0.0334      0.523      0.064      0.949      -0.991       1.058\n",
      "Region[T.South]                 0.5707      0.363      1.571      0.116      -0.141       1.283\n",
      "Region[T.West]                  0.5404      0.392      1.377      0.169      -0.229       1.310\n",
      "Sex[T.Male]                    -0.0038      0.262     -0.015      0.988      -0.517       0.509\n",
      "Health_insurance[T.Yes]         1.1022      1.036      1.064      0.287      -0.928       3.132\n",
      "Lacking_basic_needs[T.Yes]      0.4416      0.472      0.935      0.350      -0.484       1.367\n",
      "Food_stamps[T.Yes]              0.7932      0.308      2.573      0.010       0.189       1.397\n",
      "Ever_had_ADD_ADHD[T.Yes]       -0.2305      0.349     -0.661      0.509      -0.914       0.453\n",
      "Ever_had_autism[T.Yes]          1.8708      0.374      5.007      0.000       1.139       2.603\n",
      "Ever_had_devel_delay[T.Yes]     1.6014      0.337      4.745      0.000       0.940       2.263\n",
      "WIC_benefits[T.Yes]             1.2260      0.416      2.945      0.003       0.410       2.042\n",
      "Age                             0.1246      0.036      3.442      0.001       0.054       0.196\n",
      "Days_of_school_missed           0.0236      0.006      4.171      0.000       0.012       0.035\n",
      "TSLSD                          -1.4861      0.796     -1.868      0.062      -3.045       0.073\n",
      "Fam_Poverty_ratio              -0.1104      0.061     -1.818      0.069      -0.229       0.009\n",
      "===============================================================================================\n"
     ]
    }
   ],
   "source": [
    "#Results of the model\n",
    "\n",
    "print(reg.summary())"
   ]
  },
  {
   "cell_type": "code",
   "execution_count": 50,
   "id": "150de1bb",
   "metadata": {},
   "outputs": [],
   "source": [
    "#Saving the coefficients of the variables\n",
    "params = reg.params"
   ]
  },
  {
   "cell_type": "code",
   "execution_count": 51,
   "id": "a1eb023b",
   "metadata": {},
   "outputs": [],
   "source": [
    "#Bringing together the coefficients with their confidence intervals\n",
    "\n",
    "results_log = reg.conf_int()\n",
    "results_log['OR'] = params\n",
    "results_log.columns = ['Lower CI', 'Upper CI', 'Odds Ratio']"
   ]
  },
  {
   "cell_type": "code",
   "execution_count": 52,
   "id": "e8beb641",
   "metadata": {},
   "outputs": [],
   "source": [
    "#Adding the pvalues of the variables\n",
    "\n",
    "results_log_1 = np.exp(results_log) #calculates the OR for the variables\n",
    "results_log_1['p_values'] = round(reg.pvalues,4)\n",
    "results_log_1 = results_log_1[['Odds Ratio', 'Lower CI', 'Upper CI', 'p_values']].copy()"
   ]
  },
  {
   "cell_type": "code",
   "execution_count": 53,
   "id": "0bd08f13",
   "metadata": {},
   "outputs": [
    {
     "name": "stdout",
     "output_type": "stream",
     "text": [
      "RESULTS\n",
      "Statistically significant features: \n",
      "\n",
      "                             Odds Ratio  Lower CI   Upper CI  p_values\n",
      "Intercept                      0.002965  0.000172   0.051176    0.0001\n",
      "Food_stamps[T.Yes]             2.210545  1.208131   4.044685    0.0101\n",
      "Ever_had_autism[T.Yes]         6.493672  3.122297  13.505370    0.0000\n",
      "Ever_had_devel_delay[T.Yes]    4.959847  2.559875   9.609880    0.0000\n",
      "WIC_benefits[T.Yes]            3.407517  1.507031   7.704670    0.0032\n",
      "Age                            1.132742  1.055137   1.216055    0.0006\n",
      "Days_of_school_missed          1.023833  1.012565   1.035227    0.0000\n"
     ]
    }
   ],
   "source": [
    "print(f\"RESULTS\")\n",
    "print(f\"Statistically significant features: \")\n",
    "print()\n",
    "print(f\"{results_log_1[results_log_1['p_values']<=0.05]}\")"
   ]
  },
  {
   "cell_type": "code",
   "execution_count": 54,
   "id": "f35b22d9",
   "metadata": {},
   "outputs": [
    {
     "data": {
      "text/plain": [
       "0.0"
      ]
     },
     "execution_count": 54,
     "metadata": {},
     "output_type": "execute_result"
    }
   ],
   "source": [
    "round(reg.llr_pvalue,4)"
   ]
  },
  {
   "cell_type": "markdown",
   "id": "c0b0984d",
   "metadata": {},
   "source": [
    "# RESULT"
   ]
  },
  {
   "cell_type": "markdown",
   "id": "bcbfbe0e",
   "metadata": {},
   "source": [
    "With a significance level of 0.05, the pvalue of the fitted model (p-value=0.0000) indicates that the model is significant and can be explained better by the variables than a null model which involves only the intercept. This means the model created is relevant.\n",
    "\n",
    "The following discussion is focused on children with Autism, Developmental delay:\n",
    "\n",
    "Filtering only the significant variables in the model, the odds of having a 'Fair, Poor' health is 2.2 times for children receiving receiving 'Food_stamps' than those not receiving. Similarly, children receiving benefits from the WIC program also had higher oddS of having a 'Fair, poor' health.\n",
    "\n",
    "Children who have 'Ever had autism' recorded higher odds of having 'Fair, Poor' health than children with no autism. This trend is similar to children who have 'Ever had developmental delay'."
   ]
  },
  {
   "cell_type": "markdown",
   "id": "ec965d74",
   "metadata": {},
   "source": [
    "# MODEL 2"
   ]
  },
  {
   "cell_type": "markdown",
   "id": "c3420259",
   "metadata": {},
   "source": [
    "# IRR FOR DAYS OF SCHOOL MISSED"
   ]
  },
  {
   "cell_type": "code",
   "execution_count": 55,
   "id": "c25c80af",
   "metadata": {},
   "outputs": [],
   "source": [
    "formula_p=('Days_of_school_missed ~ Region + Sex + Age +  '\n",
    "                            'Num_of_children +'\n",
    "                            'Special_Edu + Coverage_status +'\n",
    "                            'Health_insurance + TSLSD + '\n",
    "                            'Lacking_basic_needs + '\n",
    "                            'Parent_works + '\n",
    "                            'Parent_edu + Fam_Poverty_ratio + '\n",
    "                            'Born_in_US + Citizenship + '\n",
    "                            'Origin + Food_stamps + Ever_had_ADD_ADHD + Ever_had_autism + Ever_had_devel_delay +'\n",
    "                            'WIC_benefits + SFP_incarcerated + LWAA_D + LWAMD + Victim_or_witnessed_violence')"
   ]
  },
  {
   "cell_type": "code",
   "execution_count": 56,
   "id": "049ce9c1",
   "metadata": {},
   "outputs": [
    {
     "name": "stdout",
     "output_type": "stream",
     "text": [
      "Optimization terminated successfully.\n",
      "         Current function value: 6.242849\n",
      "         Iterations 6\n"
     ]
    }
   ],
   "source": [
    "poisson = smf.poisson(formula=formula_p, data=general_health_data).fit()"
   ]
  },
  {
   "cell_type": "code",
   "execution_count": 57,
   "id": "b8c55efe",
   "metadata": {},
   "outputs": [
    {
     "name": "stdout",
     "output_type": "stream",
     "text": [
      "                            Poisson Regression Results                           \n",
      "=================================================================================\n",
      "Dep. Variable:     Days_of_school_missed   No. Observations:                 3548\n",
      "Model:                           Poisson   Df Residuals:                     3518\n",
      "Method:                              MLE   Df Model:                           29\n",
      "Date:                   Sun, 18 Aug 2024   Pseudo R-squ.:                 0.04530\n",
      "Time:                           15:07:50   Log-Likelihood:                -22150.\n",
      "converged:                          True   LL-Null:                       -23201.\n",
      "Covariance Type:               nonrobust   LLR p-value:                     0.000\n",
      "=========================================================================================================\n",
      "                                            coef    std err          z      P>|z|      [0.025      0.975]\n",
      "---------------------------------------------------------------------------------------------------------\n",
      "Intercept                                 1.5401      0.099     15.606      0.000       1.347       1.734\n",
      "Region[T.Northeast]                      -0.0295      0.025     -1.172      0.241      -0.079       0.020\n",
      "Region[T.South]                          -0.1092      0.020     -5.486      0.000      -0.148      -0.070\n",
      "Region[T.West]                           -0.0153      0.022     -0.712      0.477      -0.058       0.027\n",
      "Sex[T.Male]                              -0.1832      0.015    -12.194      0.000      -0.213      -0.154\n",
      "Num_of_children[T.2 children]            -0.1183      0.017     -6.987      0.000      -0.151      -0.085\n",
      "Num_of_children[T.3+ children]           -0.1422      0.021     -6.722      0.000      -0.184      -0.101\n",
      "Special_Edu[T.Yes]                        0.3291      0.021     15.585      0.000       0.288       0.371\n",
      "Coverage_status[T.Not covered]           -0.3820      0.072     -5.314      0.000      -0.523      -0.241\n",
      "Health_insurance[T.Yes]                  -0.6842      0.068    -10.009      0.000      -0.818      -0.550\n",
      "Lacking_basic_needs[T.Yes]               -0.2834      0.046     -6.187      0.000      -0.373      -0.194\n",
      "Parent_works[T.Yes]                      -0.0425      0.020     -2.131      0.033      -0.081      -0.003\n",
      "Parent_edu[T.High school or less]         0.0149      0.023      0.638      0.524      -0.031       0.061\n",
      "Parent_edu[T.Some college degree]         0.2049      0.019     10.719      0.000       0.167       0.242\n",
      "Born_in_US[T.Yes]                         0.2080      0.062      3.357      0.001       0.087       0.329\n",
      "Citizenship[T.Yes]                        0.5588      0.085      6.588      0.000       0.393       0.725\n",
      "Origin[T.Hispanic (all other groups)]     0.1090      0.032      3.416      0.001       0.046       0.172\n",
      "Origin[T.Not Hispanic]                    0.0652      0.023      2.825      0.005       0.020       0.110\n",
      "Food_stamps[T.Yes]                        0.1172      0.023      5.171      0.000       0.073       0.162\n",
      "Ever_had_ADD_ADHD[T.Yes]                  0.0840      0.023      3.704      0.000       0.040       0.128\n",
      "Ever_had_autism[T.Yes]                   -0.0800      0.038     -2.130      0.033      -0.154      -0.006\n",
      "Ever_had_devel_delay[T.Yes]               0.1284      0.030      4.211      0.000       0.069       0.188\n",
      "WIC_benefits[T.Yes]                       0.0595      0.039      1.538      0.124      -0.016       0.135\n",
      "SFP_incarcerated[T.Yes]                  -0.0004      0.034     -0.010      0.992      -0.067       0.066\n",
      "LWAA_D[T.Yes]                             0.3591      0.026     14.073      0.000       0.309       0.409\n",
      "LWAMD[T.Yes]                              0.0435      0.030      1.457      0.145      -0.015       0.102\n",
      "Victim_or_witnessed_violence[T.Yes]       0.3614      0.029     12.385      0.000       0.304       0.419\n",
      "Age                                      -0.0158      0.002     -7.694      0.000      -0.020      -0.012\n",
      "TSLSD                                     0.1304      0.011     12.068      0.000       0.109       0.152\n",
      "Fam_Poverty_ratio                         0.0104      0.003      3.212      0.001       0.004       0.017\n",
      "=========================================================================================================\n"
     ]
    }
   ],
   "source": [
    "print(poisson.summary())"
   ]
  },
  {
   "cell_type": "code",
   "execution_count": 58,
   "id": "6f702a50",
   "metadata": {},
   "outputs": [],
   "source": [
    "#Saving the coefficients of the variables\n",
    "poisson_params = poisson.params"
   ]
  },
  {
   "cell_type": "code",
   "execution_count": 59,
   "id": "a9e15c51",
   "metadata": {},
   "outputs": [],
   "source": [
    "#Bringing together the coefficients with their confidence intervals\n",
    "\n",
    "poisson_df = poisson.conf_int()\n",
    "poisson_df['IRR'] = poisson_params\n",
    "poisson_df = poisson_df[['IRR',0,1]].copy()\n",
    "poisson_df.columns = ['IRR','Lower CI','Upper CI']"
   ]
  },
  {
   "cell_type": "code",
   "execution_count": 60,
   "id": "b37003d5",
   "metadata": {},
   "outputs": [],
   "source": [
    "poisson_df = np.exp(poisson_df) #calculates the IRR for the variables\n",
    "poisson_df['pvalues'] = round(poisson.pvalues,4) #getting the pvalues of the variables"
   ]
  },
  {
   "cell_type": "code",
   "execution_count": 61,
   "id": "6c3262d5",
   "metadata": {},
   "outputs": [
    {
     "name": "stdout",
     "output_type": "stream",
     "text": [
      "RESULTS\n",
      "Statistically significant features: \n",
      "\n",
      "                                            IRR  Lower CI  Upper CI  pvalues\n",
      "Intercept                              4.665099  3.844645  5.660638   0.0000\n",
      "Region[T.South]                        0.896591  0.862296  0.932249   0.0000\n",
      "Sex[T.Male]                            0.832602  0.808442  0.857484   0.0000\n",
      "Num_of_children[T.2 children]          0.888425  0.859424  0.918406   0.0000\n",
      "Num_of_children[T.3+ children]         0.867460  0.832234  0.904177   0.0000\n",
      "Special_Edu[T.Yes]                     1.389764  1.333411  1.448497   0.0000\n",
      "Coverage_status[T.Not covered]         0.682463  0.592768  0.785730   0.0000\n",
      "Health_insurance[T.Yes]                0.504505  0.441245  0.576834   0.0000\n",
      "Lacking_basic_needs[T.Yes]             0.753184  0.688505  0.823938   0.0000\n",
      "Parent_works[T.Yes]                    0.958434  0.921735  0.996594   0.0331\n",
      "Parent_edu[T.Some college degree]      1.227360  1.182236  1.274206   0.0000\n",
      "Born_in_US[T.Yes]                      1.231192  1.090411  1.390148   0.0008\n",
      "Citizenship[T.Yes]                     1.748596  1.480790  2.064835   0.0000\n",
      "Origin[T.Hispanic (all other groups)]  1.115157  1.047563  1.187111   0.0006\n",
      "Origin[T.Not Hispanic]                 1.067411  1.020185  1.116824   0.0047\n",
      "Food_stamps[T.Yes]                     1.124314  1.075476  1.175369   0.0000\n",
      "Ever_had_ADD_ADHD[T.Yes]               1.087597  1.040334  1.137006   0.0002\n",
      "Ever_had_autism[T.Yes]                 0.923083  0.857529  0.993647   0.0332\n",
      "Ever_had_devel_delay[T.Yes]            1.136974  1.071028  1.206982   0.0000\n",
      "LWAA_D[T.Yes]                          1.432001  1.362148  1.505437   0.0000\n",
      "Victim_or_witnessed_violence[T.Yes]    1.435286  1.355509  1.519758   0.0000\n",
      "Age                                    0.984329  0.980376  0.988297   0.0000\n",
      "TSLSD                                  1.139311  1.115432  1.163701   0.0000\n",
      "Fam_Poverty_ratio                      1.010470  1.004068  1.016913   0.0013\n"
     ]
    }
   ],
   "source": [
    "print(f\"RESULTS\")\n",
    "print(f\"Statistically significant features: \")\n",
    "print()\n",
    "print(poisson_df[poisson_df['pvalues']<=0.05])"
   ]
  },
  {
   "cell_type": "markdown",
   "id": "11eed9d4",
   "metadata": {},
   "source": [
    "# RESULT"
   ]
  },
  {
   "cell_type": "markdown",
   "id": "9733a84a",
   "metadata": {},
   "source": [
    "Also using a significance level of 0.05 for this model, the pvalue of this poisson model was 0.000 indicating that the model is relevant to be interpreted.\n",
    "\n",
    "The following discussion is focused on children with Autism, Developmental delay and ADD/ADHD:\n",
    "\n",
    "The incidence of days of school missed due to injury or sickness was higher in children who recorded that they have 'Ever had ADD/ADHD'. Also, a similar trend was noticed for children who have 'Ever had a development delay'.\n",
    "\n",
    "Children who have 'Lived with anyone with alcohol/drug problem' and children who have been a victim of or witnessed violence had a higher incidence of days of school missed due to injury or sickness than those who have not. \n",
    "\n",
    "The incidence of days of school missed due to injury or sickness was lower for children who have 'Ever had autism'"
   ]
  },
  {
   "cell_type": "code",
   "execution_count": null,
   "id": "36945ba9",
   "metadata": {},
   "outputs": [],
   "source": []
  }
 ],
 "metadata": {
  "kernelspec": {
   "display_name": "Python 3 (ipykernel)",
   "language": "python",
   "name": "python3"
  },
  "language_info": {
   "codemirror_mode": {
    "name": "ipython",
    "version": 3
   },
   "file_extension": ".py",
   "mimetype": "text/x-python",
   "name": "python",
   "nbconvert_exporter": "python",
   "pygments_lexer": "ipython3",
   "version": "3.11.4"
  }
 },
 "nbformat": 4,
 "nbformat_minor": 5
}
